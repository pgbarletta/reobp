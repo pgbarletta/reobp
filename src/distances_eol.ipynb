{
 "cells": [
  {
   "cell_type": "code",
   "execution_count": 19,
   "metadata": {},
   "outputs": [],
   "source": [
    "import mdtraj as md\n",
    "import os\n",
    "import numpy as np\n",
    "casa = \"/home/pbarletta/labo/20/cph_obp\"\n",
    "dir_eol = os.path.join(casa, \"run/eol\")"
   ]
  },
  {
   "cell_type": "code",
   "execution_count": 42,
   "metadata": {},
   "outputs": [],
   "source": [
    "reol = md.load(os.path.join(casa, dir_eol, \"reol.rst7\"),\n",
    "               top = os.path.join(casa, \"top_files\", \"eol.prmtop\"))"
   ]
  },
  {
   "cell_type": "code",
   "execution_count": 82,
   "metadata": {},
   "outputs": [],
   "source": [
    "indices = []\n",
    "for cada in reol.topology.residue(119).atoms:\n",
    "    if cada.element.atomic_number == 6:\n",
    "        indices.append(cada.index)\n",
    "\n",
    "ctro = np.zeros((1, 3), dtype = np.float32)\n",
    "\n",
    "for xyz in reol.xyz[0][indices, :]:\n",
    "    ctro = ctro + xyz\n",
    "\n",
    "ctro = ctro / len(indices)"
   ]
  },
  {
   "cell_type": "code",
   "execution_count": 144,
   "metadata": {},
   "outputs": [],
   "source": [
    "aguas = reol.topology.select(\"water and name O\")\n",
    "\n",
    "i = 0\n",
    "cerca = []\n",
    "for xyz in reol.xyz[0][aguas, :]:\n",
    "    dis = np.linalg.norm(xyz - ctro)\n",
    "    if dis < 1:\n",
    "        cerca.append(i)\n",
    "    i += 1"
   ]
  },
  {
   "cell_type": "code",
   "execution_count": 145,
   "metadata": {},
   "outputs": [
    {
     "data": {
      "text/plain": [
       "array([[3.1629653, 2.6896234, 2.9033065]], dtype=float32)"
      ]
     },
     "execution_count": 145,
     "metadata": {},
     "output_type": "execute_result"
    }
   ],
   "source": [
    "for cada in cerca:\n",
    "    print(aguas[cada] + 1, end = '+')"
   ]
  },
  {
   "cell_type": "code",
   "execution_count": null,
   "metadata": {},
   "outputs": [],
   "source": []
  }
 ],
 "metadata": {
  "kernelspec": {
   "display_name": "Python 3",
   "language": "python",
   "name": "python3"
  },
  "language_info": {
   "codemirror_mode": {
    "name": "ipython",
    "version": 3
   },
   "file_extension": ".py",
   "mimetype": "text/x-python",
   "name": "python",
   "nbconvert_exporter": "python",
   "pygments_lexer": "ipython3",
   "version": "3.8.3"
  }
 },
 "nbformat": 4,
 "nbformat_minor": 4
}
