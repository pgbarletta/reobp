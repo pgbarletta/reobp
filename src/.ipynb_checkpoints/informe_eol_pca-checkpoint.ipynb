{
 "cells": [
  {
   "cell_type": "code",
   "execution_count": 1,
   "metadata": {},
   "outputs": [],
   "source": [
    "using DataFrames, FileIO, DelimitedFiles\n",
    "using Plots, Optim, LsqFit\n",
    "using Chemfiles, HDF5, JUMD, LinearAlgebra, Statistics"
   ]
  },
  {
   "cell_type": "code",
   "execution_count": 2,
   "metadata": {},
   "outputs": [
    {
     "data": {
      "text/plain": [
       "21"
      ]
     },
     "execution_count": 2,
     "metadata": {},
     "output_type": "execute_result"
    }
   ],
   "source": [
    "# Get ready\n",
    "dir_eol_pca = string(\"/home/pbarletta/labo/20/reobp/run/eol/pca/\")\n",
    "dir_rtdos = string(\"/home/pbarletta/labo/20/reobp/rtdos_log\")\n",
    "\n",
    "aa = 113\n",
    "nstlim = 12000\n",
    "phs = collect(2.0:.5:7.5)\n",
    "idx = collect(1:12)\n",
    "\n",
    "titrable_resis = [4, 5, 11, 13, 20, 24, 30, 33, 37, 39, 40,\n",
    "    48, 58, 73, 77, 78, 87, 93, 94, 97, 117]\n",
    "titrable_resnames = [\"GL4\", \"GL4\", \"HIP\", \"GL4\", \"GL4\", \"AS4\",\n",
    "    \"AS4\", \"GL4\", \"AS4\", \"GL4\", \"AS4\", \"GL4\", \"AS4\", \"GL4\", \"AS4\",\n",
    "    \"GL4\", \"AS4\", \"GL4\", \"GL4\", \"HIP\", \"AS4\"]\n",
    "titrable_cnt = length(titrable_resis)"
   ]
  },
  {
   "cell_type": "code",
   "execution_count": 3,
   "metadata": {},
   "outputs": [
    {
     "data": {
      "text/plain": [
       "diff_trj_avg (generic function with 1 method)"
      ]
     },
     "execution_count": 3,
     "metadata": {},
     "output_type": "execute_result"
    }
   ],
   "source": [
    "function diff_trj_avg(in_avg_filename::AbstractString, in_trj_filename::AbstractString,\n",
    "        mask::Array{Int64, 1})\n",
    "    in_avg_trj = Trajectory(in_avg_filename)\n",
    "    in_avg_frm = read(in_avg_trj)\n",
    "    in_avg_top = Topology(in_avg_frm)\n",
    "    orig_aa = convert(Int64, count_residues(in_avg_top))\n",
    "\n",
    "    # Get indices de CA\n",
    "    orig_cas_idx = Array{Int64, 1}(undef, orig_aa)\n",
    "    k = 0\n",
    "    for i = 0:convert(Int64, size(in_avg_top)-1)\n",
    "        if Chemfiles.name(Atom(in_avg_frm, i)) == \"CA\"\n",
    "            k+=1\n",
    "            orig_cas_idx[k] = i + 1\n",
    "        end\n",
    "    end\n",
    "    cas_idx = orig_cas_idx[mask]\n",
    "    aa = length(cas_idx)\n",
    "    aa_3 = aa * 3\n",
    "    # Estas son las coordenadas q voy a usar p/ restar\n",
    "    avg_xyz = positions(in_avg_frm)[:, cas_idx];\n",
    "\n",
    "    # Preparo\n",
    "    in_trj = Trajectory(in_trj_filename)\n",
    "    nframes = convert(Int64, length(in_trj))\n",
    "    close(in_trj)\n",
    "    diff_pdb = Array{Float64, 2}(undef, aa_3, nframes)\n",
    "    vec_nframes = convert(Array{Int64}, collect(0:nframes/10:nframes));\n",
    "\n",
    "    # Ahora obtengo las proyecciones\n",
    "    for j = 1:length(vec_nframes)-1\n",
    "        in_trj = Trajectory(in_trj_filename)\n",
    "        for i = vec_nframes[j]:vec_nframes[j+1]-1\n",
    "            diff_pdb[:, i+1] =\n",
    "                reshape(positions(read_step(in_trj, i))[:, cas_idx] .- avg_xyz, aa_3)\n",
    "        end\n",
    "        close(in_trj)\n",
    "        println(j)\n",
    "        GC.gc()\n",
    "    end\n",
    "\n",
    "    return diff_pdb\n",
    "end"
   ]
  },
  {
   "cell_type": "raw",
   "metadata": {},
   "source": [
    "# Esto lo hago una sola vez. Luego leo el rtdo.\n",
    "for i in 1:12\n",
    "    println(\"---- \", idx[i], \" , \", phs[i], \"---- \")\n",
    "#     dif_idx = diff_trj_avg(joinpath(dir_eol_pca, string(idx[i]), string(\"avg_eol_\", idx[i], \".pdb\")),\n",
    "#         joinpath(dir_eol_pca, string(idx[i]), string(\"full_avgfit_eol_\", idx[i], \".nc\")),\n",
    "#         collect(3:115))\n",
    "\n",
    "#     fid_idx = h5open(joinpath(dir_rtdos, string(\"diff_eol_\", idx[i], \".h5\")), \"w\")\n",
    "#     write(fid_idx, \"dif\", dif_idx)\n",
    "#     close(fid_idx)\n",
    "    \n",
    "    dif_phs = diff_trj_avg(joinpath(dir_eol_pca, string(phs[i]), string(\"avg_eol_\", phs[i], \".pdb\")),\n",
    "        joinpath(dir_eol_pca, string(phs[i]), string(\"full_avgfit_eol_\", phs[i], \".nc\")),\n",
    "        collect(3:115))\n",
    "\n",
    "    fid_phs = h5open(joinpath(dir_rtdos, string(\"diff_eol_\", phs[i], \".h5\")), \"w\")\n",
    "    write(fid_phs, \"dif\", dif_phs)\n",
    "    close(fid_phs)\n",
    "end"
   ]
  },
  {
   "cell_type": "code",
   "execution_count": 4,
   "metadata": {},
   "outputs": [
    {
     "name": "stderr",
     "output_type": "stream",
     "text": [
      "HDF5-DIAG: Error detected in HDF5 (1.12.0) thread 0:\n",
      "  #000: H5Fdeprec.c line 163 in H5Fis_hdf5(): unable to determine if file is accessible as HDF5\n",
      "    major: File accessibility\n",
      "    minor: Not an HDF5 file\n",
      "  #001: H5VLcallback.c line 3755 in H5VL_file_specific(): file specific failed\n",
      "    major: Virtual Object Layer\n",
      "    minor: Can't operate on object\n",
      "  #002: H5VLcallback.c line 3684 in H5VL__file_specific(): file specific failed\n",
      "    major: Virtual Object Layer\n",
      "    minor: Can't operate on object\n",
      "  #003: H5VLnative_file.c line 401 in H5VL__native_file_specific(): error in HDF5 file check\n",
      "    major: File accessibility\n",
      "    minor: Unable to initialize object\n",
      "  #004: H5Fint.c line 866 in H5F__is_hdf5(): unable to open file\n",
      "    major: File accessibility\n",
      "    minor: Unable to initialize object\n",
      "  #005: H5FD.c line 741 in H5FD_open(): open failed\n",
      "    major: Virtual File Layer\n",
      "    minor: Unable to initialize object\n",
      "  #006: H5FDsec2.c line 346 in H5FD_sec2_open(): unable to open file: name = '/home/pbarletta/labo/20/reobp/rtdos_log/diff_eol_2.0.h5', errno = 2, error message = 'No such file or directory', flags = 0, o_flags = 0\n",
      "    major: File accessibility\n",
      "    minor: Unable to open file\n"
     ]
    },
    {
     "ename": "LoadError",
     "evalue": "Cannot access file /home/pbarletta/labo/20/reobp/rtdos_log/diff_eol_2.0.h5",
     "output_type": "error",
     "traceback": [
      "Cannot access file /home/pbarletta/labo/20/reobp/rtdos_log/diff_eol_2.0.h5",
      "",
      "Stacktrace:",
      " [1] error(::String, ::String) at ./error.jl:42",
      " [2] h5f_is_hdf5(::String) at /home/pbarletta/.julia/packages/HDF5/T1b9x/src/HDF5.jl:2360",
      " [3] h5open(::String, ::Bool, ::Bool, ::Bool, ::Bool, ::Bool, ::HDF5Properties, ::HDF5Properties; swmr::Bool) at /home/pbarletta/.julia/packages/HDF5/T1b9x/src/HDF5.jl:630",
      " [4] h5open(::String, ::String; swmr::Bool) at /home/pbarletta/.julia/packages/HDF5/T1b9x/src/HDF5.jl:678",
      " [5] h5open at /home/pbarletta/.julia/packages/HDF5/T1b9x/src/HDF5.jl:661 [inlined]",
      " [6] h5read(::String, ::String) at /home/pbarletta/.julia/packages/HDF5/T1b9x/src/HDF5.jl:727",
      " [7] top-level scope at In[4]:13",
      " [8] include_string(::Function, ::Module, ::String, ::String) at ./loading.jl:1091"
     ]
    }
   ],
   "source": [
    "for i in 1:12\n",
    "    PH = convert(Int64, phs[i] * 10)\n",
    "    # Leo modos\n",
    "#     modes_idx, evals_idx = JUMD.readPtrajModes(\n",
    "#         joinpath(dir_eol_pca, string(idx[i]), string(\"modes_eol_\", idx[i])))\n",
    "    modes_phs, evals_phs = JUMD.readPtrajModes(\n",
    "        joinpath(dir_eol_pca, string(phs[i]), string(\"modes_eol_\", phs[i])))\n",
    "\n",
    "    # Leo vectores diferencia entre el avg y los frames\n",
    "#     dif_idx = h5read(joinpath(dir_rtdos, string(\"diff_eol_\", idx[i], \".h5\")), \"dif\")\n",
    "#     norm_dif_idx = mapslices(x -> x ./ norm(x), dif_idx, dims = 1)\n",
    "    \n",
    "    dif_phs = h5read(joinpath(dir_rtdos, string(\"diff_eol_\", phs[i], \".h5\")), \"dif\")\n",
    "    norm_dif_phs = mapslices(x -> x ./ norm(x), dif_phs, dims = 1)\n",
    "    \n",
    "    nframes = size(dif_phs)[2]\n",
    "\n",
    "    # Hago las proyecciones\n",
    "#     prj_1_idx = Array{Float64, 1}(undef, nframes)\n",
    "#     prj_2_idx = Array{Float64, 1}(undef, nframes)\n",
    "#     prj_3_idx = Array{Float64, 1}(undef, nframes)\n",
    "    prj_1_phs = Array{Float64, 1}(undef, nframes)\n",
    "    prj_2_phs = Array{Float64, 1}(undef, nframes)\n",
    "    prj_3_phs = Array{Float64, 1}(undef, nframes)\n",
    "    \n",
    "    for i = 1:nframes\n",
    "#         prj_1_idx[i] = dot(norm_dif_idx[:, i], modes_idx[:, 1])\n",
    "#         prj_2_idx[i] = dot(norm_dif_idx[:, i], modes_idx[:, 2])\n",
    "#         prj_3_idx[i] = dot(norm_dif_idx[:, i], modes_idx[:, 3])\n",
    "        \n",
    "        prj_1_phs[i] = dot(norm_dif_phs[:, i], modes_phs[:, 1])\n",
    "        prj_2_phs[i] = dot(norm_dif_phs[:, i], modes_phs[:, 2])\n",
    "        prj_3_phs[i] = dot(norm_dif_phs[:, i], modes_phs[:, 3])\n",
    "    end\n",
    "\n",
    "    # Smooth\n",
    "#     global smooth_prj_1_idx = [ mean(prj_1_idx[i:i+9]) for i = 1:10:length(prj_1_idx)-9 ]\n",
    "#     global smooth_prj_2_idx = [ mean(prj_2_idx[i:i+9]) for i = 1:10:length(prj_2_idx)-9 ]\n",
    "#     global smooth_prj_3_idx = [ mean(prj_3_idx[i:i+9]) for i = 1:10:length(prj_3_idx)-9 ]\n",
    "\n",
    "    global smooth_prj_1_phs = [ mean(prj_1_phs[i:i+9]) for i = 1:10:length(prj_1_phs)-9 ]\n",
    "    global smooth_prj_2_phs = [ mean(prj_2_phs[i:i+9]) for i = 1:10:length(prj_2_phs)-9 ]\n",
    "    global smooth_prj_3_phs = [ mean(prj_3_phs[i:i+9]) for i = 1:10:length(prj_3_phs)-9 ]\n",
    "\n",
    "#     sym_smooth_prj_1_eol_idx = Symbol(\"smooth_prj_1_\", idx[i], \"_idx\")\n",
    "#     sym_smooth_prj_2_eol_idx = Symbol(\"smooth_prj_2_\", idx[i], \"_idx\")\n",
    "#     sym_smooth_prj_3_eol_idx = Symbol(\"smooth_prj_3_\", idx[i], \"_idx\")\n",
    "    sym_smooth_prj_1_eol_phs = Symbol(\"smooth_prj_1_\", PH, \"_phs\")\n",
    "    sym_smooth_prj_2_eol_phs = Symbol(\"smooth_prj_2_\", PH, \"_phs\")\n",
    "    sym_smooth_prj_3_eol_phs = Symbol(\"smooth_prj_3_\", PH, \"_phs\")\n",
    "#     eval(:($sym_smooth_prj_1_eol_idx = smooth_prj_1_idx))\n",
    "#     eval(:($sym_smooth_prj_2_eol_idx = smooth_prj_2_idx))\n",
    "#     eval(:($sym_smooth_prj_3_eol_idx = smooth_prj_3_idx))\n",
    "    eval(:($sym_smooth_prj_1_eol_phs = smooth_prj_1_phs))\n",
    "    eval(:($sym_smooth_prj_2_eol_phs = smooth_prj_2_phs))\n",
    "    eval(:($sym_smooth_prj_3_eol_phs = smooth_prj_3_phs)) \n",
    "end"
   ]
  },
  {
   "cell_type": "markdown",
   "metadata": {},
   "source": [
    "## PCA por pH"
   ]
  },
  {
   "cell_type": "code",
   "execution_count": 5,
   "metadata": {},
   "outputs": [
    {
     "ename": "LoadError",
     "evalue": "UndefVarError: smooth_prj_1_20_phs not defined",
     "output_type": "error",
     "traceback": [
      "UndefVarError: smooth_prj_1_20_phs not defined",
      "",
      "Stacktrace:",
      " [1] top-level scope at In[5]:1",
      " [2] include_string(::Function, ::Module, ::String, ::String) at ./loading.jl:1091"
     ]
    }
   ],
   "source": [
    "plt_prj_1_2_20_phs = histogram2d(smooth_prj_1_20_phs, smooth_prj_2_20_phs, \n",
    "        title = string(\"PCA projections - pH = \", 2.0),\n",
    "        xlims = (-1, 1), ylims = (-1, 1),\n",
    "        xticks = [-.9 ; -.5 ; 0. ;.5 ; .9], yticks = [-.9 ; -.5 ; 0. ;.5 ; .9],\n",
    "        yaxis = \"PCA 2\", xaxis = \"PCA 1\",\n",
    "        colorbar_title = \"Frame count\",\n",
    "        guidefont = font(22, \"Arial\"), tickfont = font(16, \"Arial\"),\n",
    "        legendfont = font(16, \"Arial\"), #clims = (0, 15),\n",
    "        nbins = 20, seriescolor = :blues, grid = false)"
   ]
  },
  {
   "cell_type": "code",
   "execution_count": 6,
   "metadata": {},
   "outputs": [
    {
     "ename": "LoadError",
     "evalue": "UndefVarError: smooth_prj_1_25_phs not defined",
     "output_type": "error",
     "traceback": [
      "UndefVarError: smooth_prj_1_25_phs not defined",
      "",
      "Stacktrace:",
      " [1] top-level scope at In[6]:1",
      " [2] include_string(::Function, ::Module, ::String, ::String) at ./loading.jl:1091"
     ]
    }
   ],
   "source": [
    "plt_prj_1_2_25_phs = histogram2d(smooth_prj_1_25_phs, smooth_prj_2_25_phs, \n",
    "        title = string(\"PCA projections - pH = \", 2.5),\n",
    "        xlims = (-1, 1), ylims = (-1, 1),\n",
    "        xticks = [-.9 ; -.5 ; 0. ;.5 ; .9], yticks = [-.9 ; -.5 ; 0. ;.5 ; .9],\n",
    "        yaxis = \"PCA 2\", xaxis = \"PCA 1\",\n",
    "        colorbar_title = \"Frame count\",\n",
    "        guidefont = font(22, \"Arial\"), tickfont = font(16, \"Arial\"),\n",
    "        legendfont = font(16, \"Arial\"), #clims = (0, 15),\n",
    "        nbins = 20, seriescolor = :blues, grid = false)"
   ]
  },
  {
   "cell_type": "code",
   "execution_count": 7,
   "metadata": {},
   "outputs": [
    {
     "ename": "LoadError",
     "evalue": "UndefVarError: smooth_prj_1_30_phs not defined",
     "output_type": "error",
     "traceback": [
      "UndefVarError: smooth_prj_1_30_phs not defined",
      "",
      "Stacktrace:",
      " [1] top-level scope at In[7]:1",
      " [2] include_string(::Function, ::Module, ::String, ::String) at ./loading.jl:1091"
     ]
    }
   ],
   "source": [
    "plt_prj_1_2_30_phs = histogram2d(smooth_prj_1_30_phs, smooth_prj_2_30_phs, \n",
    "        title = string(\"PCA projections - pH = \", 3.0),\n",
    "        xlims = (-1, 1), ylims = (-1, 1),\n",
    "        xticks = [-.9 ; -.5 ; 0. ;.5 ; .9], yticks = [-.9 ; -.5 ; 0. ;.5 ; .9],\n",
    "        yaxis = \"PCA 2\", xaxis = \"PCA 1\",\n",
    "        colorbar_title = \"Frame count\",\n",
    "        guidefont = font(22, \"Arial\"), tickfont = font(16, \"Arial\"),\n",
    "        legendfont = font(16, \"Arial\"), #clims = (0, 15),\n",
    "        nbins = 20, seriescolor = :blues, grid = false)"
   ]
  },
  {
   "cell_type": "code",
   "execution_count": 8,
   "metadata": {},
   "outputs": [
    {
     "ename": "LoadError",
     "evalue": "UndefVarError: smooth_prj_1_35_phs not defined",
     "output_type": "error",
     "traceback": [
      "UndefVarError: smooth_prj_1_35_phs not defined",
      "",
      "Stacktrace:",
      " [1] top-level scope at In[8]:1",
      " [2] include_string(::Function, ::Module, ::String, ::String) at ./loading.jl:1091"
     ]
    }
   ],
   "source": [
    "plt_prj_1_2_35_phs = histogram2d(smooth_prj_1_35_phs, smooth_prj_2_35_phs, \n",
    "        title = string(\"PCA projections - pH = \", 3.5),\n",
    "        xlims = (-1, 1), ylims = (-1, 1),\n",
    "        xticks = [-.9 ; -.5 ; 0. ;.5 ; .9], yticks = [-.9 ; -.5 ; 0. ;.5 ; .9],\n",
    "        yaxis = \"PCA 2\", xaxis = \"PCA 1\",\n",
    "        colorbar_title = \"Frame count\",\n",
    "        guidefont = font(22, \"Arial\"), tickfont = font(16, \"Arial\"),\n",
    "        legendfont = font(16, \"Arial\"), #clims = (0, 15),\n",
    "        nbins = 20, seriescolor = :blues, grid = false)"
   ]
  },
  {
   "cell_type": "code",
   "execution_count": 9,
   "metadata": {},
   "outputs": [
    {
     "ename": "LoadError",
     "evalue": "UndefVarError: smooth_prj_1_40_phs not defined",
     "output_type": "error",
     "traceback": [
      "UndefVarError: smooth_prj_1_40_phs not defined",
      "",
      "Stacktrace:",
      " [1] top-level scope at In[9]:1",
      " [2] include_string(::Function, ::Module, ::String, ::String) at ./loading.jl:1091"
     ]
    }
   ],
   "source": [
    "plt_prj_1_2_40_phs = histogram2d(smooth_prj_1_40_phs, smooth_prj_2_40_phs, \n",
    "        title = string(\"PCA projections - pH = \", 4.0),\n",
    "        xlims = (-1, 1), ylims = (-1, 1),\n",
    "        xticks = [-.9 ; -.5 ; 0. ;.5 ; .9], yticks = [-.9 ; -.5 ; 0. ;.5 ; .9],\n",
    "        yaxis = \"PCA 2\", xaxis = \"PCA 1\",\n",
    "        colorbar_title = \"Frame count\",\n",
    "        guidefont = font(22, \"Arial\"), tickfont = font(16, \"Arial\"),\n",
    "        legendfont = font(16, \"Arial\"), #clims = (0, 15),\n",
    "        nbins = 20, seriescolor = :blues, grid = false)"
   ]
  },
  {
   "cell_type": "code",
   "execution_count": 10,
   "metadata": {},
   "outputs": [
    {
     "ename": "LoadError",
     "evalue": "UndefVarError: smooth_prj_1_45_phs not defined",
     "output_type": "error",
     "traceback": [
      "UndefVarError: smooth_prj_1_45_phs not defined",
      "",
      "Stacktrace:",
      " [1] top-level scope at In[10]:1",
      " [2] include_string(::Function, ::Module, ::String, ::String) at ./loading.jl:1091"
     ]
    }
   ],
   "source": [
    "plt_prj_1_2_45_phs = histogram2d(smooth_prj_1_45_phs, smooth_prj_2_45_phs, \n",
    "        title = string(\"PCA projections - pH = \", 4.5),\n",
    "        xlims = (-1, 1), ylims = (-1, 1),\n",
    "        xticks = [-.9 ; -.5 ; 0. ;.5 ; .9], yticks = [-.9 ; -.5 ; 0. ;.5 ; .9],\n",
    "        yaxis = \"PCA 2\", xaxis = \"PCA 1\",\n",
    "        colorbar_title = \"Frame count\",\n",
    "        guidefont = font(22, \"Arial\"), tickfont = font(16, \"Arial\"),\n",
    "        legendfont = font(16, \"Arial\"), #clims = (0, 15),\n",
    "        nbins = 20, seriescolor = :blues, grid = false)"
   ]
  },
  {
   "cell_type": "code",
   "execution_count": 11,
   "metadata": {},
   "outputs": [
    {
     "ename": "LoadError",
     "evalue": "UndefVarError: smooth_prj_1_50_phs not defined",
     "output_type": "error",
     "traceback": [
      "UndefVarError: smooth_prj_1_50_phs not defined",
      "",
      "Stacktrace:",
      " [1] top-level scope at In[11]:1",
      " [2] include_string(::Function, ::Module, ::String, ::String) at ./loading.jl:1091"
     ]
    }
   ],
   "source": [
    "plt_prj_1_2_50_phs = histogram2d(smooth_prj_1_50_phs, smooth_prj_2_50_phs, \n",
    "        title = string(\"PCA projections - pH = \", 5.0),\n",
    "        xlims = (-1, 1), ylims = (-1, 1),\n",
    "        xticks = [-.9 ; -.5 ; 0. ;.5 ; .9], yticks = [-.9 ; -.5 ; 0. ;.5 ; .9],\n",
    "        yaxis = \"PCA 2\", xaxis = \"PCA 1\",\n",
    "        colorbar_title = \"Frame count\",\n",
    "        guidefont = font(22, \"Arial\"), tickfont = font(16, \"Arial\"),\n",
    "        legendfont = font(16, \"Arial\"), #clims = (0, 15),\n",
    "        nbins = 20, seriescolor = :blues, grid = false)"
   ]
  },
  {
   "cell_type": "code",
   "execution_count": 12,
   "metadata": {},
   "outputs": [
    {
     "ename": "LoadError",
     "evalue": "UndefVarError: smooth_prj_1_55_phs not defined",
     "output_type": "error",
     "traceback": [
      "UndefVarError: smooth_prj_1_55_phs not defined",
      "",
      "Stacktrace:",
      " [1] top-level scope at In[12]:1",
      " [2] include_string(::Function, ::Module, ::String, ::String) at ./loading.jl:1091"
     ]
    }
   ],
   "source": [
    "plt_prj_1_2_55_phs = histogram2d(smooth_prj_1_55_phs, smooth_prj_2_55_phs, \n",
    "        title = string(\"PCA projections - pH = \", 5.5),\n",
    "        xlims = (-1, 1), ylims = (-1, 1),\n",
    "        xticks = [-.9 ; -.5 ; 0. ;.5 ; .9], yticks = [-.9 ; -.5 ; 0. ;.5 ; .9],\n",
    "        yaxis = \"PCA 2\", xaxis = \"PCA 1\",\n",
    "        colorbar_title = \"Frame count\",\n",
    "        guidefont = font(22, \"Arial\"), tickfont = font(16, \"Arial\"),\n",
    "        legendfont = font(16, \"Arial\"), #clims = (0, 15),\n",
    "        nbins = 20, seriescolor = :blues, grid = false)"
   ]
  },
  {
   "cell_type": "code",
   "execution_count": 13,
   "metadata": {},
   "outputs": [
    {
     "ename": "LoadError",
     "evalue": "UndefVarError: smooth_prj_1_60_phs not defined",
     "output_type": "error",
     "traceback": [
      "UndefVarError: smooth_prj_1_60_phs not defined",
      "",
      "Stacktrace:",
      " [1] top-level scope at In[13]:1",
      " [2] include_string(::Function, ::Module, ::String, ::String) at ./loading.jl:1091"
     ]
    }
   ],
   "source": [
    "plt_prj_1_2_60_phs = histogram2d(smooth_prj_1_60_phs, smooth_prj_2_60_phs, \n",
    "        title = string(\"PCA projections - pH = \", 6.0),\n",
    "        xlims = (-1, 1), ylims = (-1, 1),\n",
    "        xticks = [-.9 ; -.5 ; 0. ;.5 ; .9], yticks = [-.9 ; -.5 ; 0. ;.5 ; .9],\n",
    "        yaxis = \"PCA 2\", xaxis = \"PCA 1\",\n",
    "        colorbar_title = \"Frame count\",\n",
    "        guidefont = font(22, \"Arial\"), tickfont = font(16, \"Arial\"),\n",
    "        legendfont = font(16, \"Arial\"), #clims = (0, 15),\n",
    "        nbins = 20, seriescolor = :blues, grid = false)"
   ]
  },
  {
   "cell_type": "code",
   "execution_count": 14,
   "metadata": {},
   "outputs": [
    {
     "ename": "LoadError",
     "evalue": "UndefVarError: smooth_prj_1_65_phs not defined",
     "output_type": "error",
     "traceback": [
      "UndefVarError: smooth_prj_1_65_phs not defined",
      "",
      "Stacktrace:",
      " [1] top-level scope at In[14]:1",
      " [2] include_string(::Function, ::Module, ::String, ::String) at ./loading.jl:1091"
     ]
    }
   ],
   "source": [
    "plt_prj_1_2_65_phs = histogram2d(smooth_prj_1_65_phs, smooth_prj_2_65_phs, \n",
    "        title = string(\"PCA projections - pH = \", 6.5),\n",
    "        xlims = (-1, 1), ylims = (-1, 1),\n",
    "        xticks = [-.9 ; -.5 ; 0. ;.5 ; .9], yticks = [-.9 ; -.5 ; 0. ;.5 ; .9],\n",
    "        yaxis = \"PCA 2\", xaxis = \"PCA 1\",\n",
    "        colorbar_title = \"Frame count\",\n",
    "        guidefont = font(22, \"Arial\"), tickfont = font(16, \"Arial\"),\n",
    "        legendfont = font(16, \"Arial\"), #clims = (0, 15),\n",
    "        nbins = 20, seriescolor = :blues, grid = false)"
   ]
  },
  {
   "cell_type": "code",
   "execution_count": 15,
   "metadata": {},
   "outputs": [
    {
     "ename": "LoadError",
     "evalue": "UndefVarError: smooth_prj_1_70_phs not defined",
     "output_type": "error",
     "traceback": [
      "UndefVarError: smooth_prj_1_70_phs not defined",
      "",
      "Stacktrace:",
      " [1] top-level scope at In[15]:1",
      " [2] include_string(::Function, ::Module, ::String, ::String) at ./loading.jl:1091"
     ]
    }
   ],
   "source": [
    "plt_prj_1_2_70_phs = histogram2d(smooth_prj_1_70_phs, smooth_prj_2_70_phs, \n",
    "        title = string(\"PCA projections - pH = \", 7.0),\n",
    "        xlims = (-1, 1), ylims = (-1, 1),\n",
    "        xticks = [-.9 ; -.5 ; 0. ;.5 ; .9], yticks = [-.9 ; -.5 ; 0. ;.5 ; .9],\n",
    "        yaxis = \"PCA 2\", xaxis = \"PCA 1\",\n",
    "        colorbar_title = \"Frame count\",\n",
    "        guidefont = font(22, \"Arial\"), tickfont = font(16, \"Arial\"),\n",
    "        legendfont = font(16, \"Arial\"), #clims = (0, 15),\n",
    "        nbins = 20, seriescolor = :blues, grid = false)"
   ]
  },
  {
   "cell_type": "code",
   "execution_count": 16,
   "metadata": {},
   "outputs": [
    {
     "ename": "LoadError",
     "evalue": "UndefVarError: smooth_prj_1_75_phs not defined",
     "output_type": "error",
     "traceback": [
      "UndefVarError: smooth_prj_1_75_phs not defined",
      "",
      "Stacktrace:",
      " [1] top-level scope at In[16]:1",
      " [2] include_string(::Function, ::Module, ::String, ::String) at ./loading.jl:1091"
     ]
    }
   ],
   "source": [
    "plt_prj_1_2_75_phs = histogram2d(smooth_prj_1_75_phs, smooth_prj_2_75_phs, \n",
    "        title = string(\"PCA projections - pH = \", 7.5),\n",
    "        xlims = (-1, 1), ylims = (-1, 1),\n",
    "        xticks = [-.9 ; -.5 ; 0. ;.5 ; .9], yticks = [-.9 ; -.5 ; 0. ;.5 ; .9],\n",
    "        yaxis = \"PCA 2\", xaxis = \"PCA 1\",\n",
    "        colorbar_title = \"Frame count\",\n",
    "        guidefont = font(22, \"Arial\"), tickfont = font(16, \"Arial\"),\n",
    "        legendfont = font(16, \"Arial\"), #clims = (0, 15),\n",
    "        nbins = 20, seriescolor = :blues, grid = false)"
   ]
  },
  {
   "cell_type": "markdown",
   "metadata": {},
   "source": [
    "## PCA por idx"
   ]
  },
  {
   "cell_type": "markdown",
   "metadata": {},
   "source": [
    "plt_prj_1_2_1_idx = histogram2d(smooth_prj_1_1_idx, smooth_prj_2_1_idx, \n",
    "        title = string(\"PCA projections - idx = \", 1),\n",
    "        xlims = (-1, 1), ylims = (-1, 1),\n",
    "        xticks = [-.9 ; -.5 ; 0. ;.5 ; .9], yticks = [-.9 ; -.5 ; 0. ;.5 ; .9],\n",
    "        yaxis = \"PCA 2\", xaxis = \"PCA 1\",\n",
    "        colorbar_title = \"Frame count\",\n",
    "        guidefont = font(22, \"Arial\"), tickfont = font(16, \"Arial\"),\n",
    "        legendfont = font(16, \"Arial\"), #clims = (0, 15),\n",
    "        nbins = 20, seriescolor = :blues, grid = false)"
   ]
  },
  {
   "cell_type": "markdown",
   "metadata": {},
   "source": [
    "plt_prj_1_2_2_idx = histogram2d(smooth_prj_1_2_idx, smooth_prj_2_2_idx, \n",
    "        title = string(\"PCA projections - idx = \", 2),\n",
    "        xlims = (-1, 1), ylims = (-1, 1),\n",
    "        xticks = [-.9 ; -.5 ; 0. ;.5 ; .9], yticks = [-.9 ; -.5 ; 0. ;.5 ; .9],\n",
    "        yaxis = \"PCA 2\", xaxis = \"PCA 1\",\n",
    "        colorbar_title = \"Frame count\",\n",
    "        guidefont = font(22, \"Arial\"), tickfont = font(16, \"Arial\"),\n",
    "        legendfont = font(16, \"Arial\"), #clims = (0, 15),\n",
    "        nbins = 20, seriescolor = :blues, grid = false)"
   ]
  },
  {
   "cell_type": "markdown",
   "metadata": {},
   "source": [
    "plt_prj_1_2_3_idx = histogram2d(smooth_prj_1_3_idx, smooth_prj_2_3_idx, \n",
    "        title = string(\"PCA projections - idx = \", 3),\n",
    "        xlims = (-1, 1), ylims = (-1, 1),\n",
    "        xticks = [-.9 ; -.5 ; 0. ;.5 ; .9], yticks = [-.9 ; -.5 ; 0. ;.5 ; .9],\n",
    "        yaxis = \"PCA 2\", xaxis = \"PCA 1\",\n",
    "        colorbar_title = \"Frame count\",\n",
    "        guidefont = font(22, \"Arial\"), tickfont = font(16, \"Arial\"),\n",
    "        legendfont = font(16, \"Arial\"), #clims = (0, 15),\n",
    "        nbins = 20, seriescolor = :blues, grid = false)"
   ]
  },
  {
   "cell_type": "markdown",
   "metadata": {},
   "source": [
    "plt_prj_1_2_4_idx = histogram2d(smooth_prj_1_4_idx, smooth_prj_2_4_idx, \n",
    "        title = string(\"PCA projections - idx = \", 4),\n",
    "        xlims = (-1, 1), ylims = (-1, 1),\n",
    "        xticks = [-.9 ; -.5 ; 0. ;.5 ; .9], yticks = [-.9 ; -.5 ; 0. ;.5 ; .9],\n",
    "        yaxis = \"PCA 2\", xaxis = \"PCA 1\",\n",
    "        colorbar_title = \"Frame count\",\n",
    "        guidefont = font(22, \"Arial\"), tickfont = font(16, \"Arial\"),\n",
    "        legendfont = font(16, \"Arial\"), #clims = (0, 15),\n",
    "        nbins = 20, seriescolor = :blues, grid = false)"
   ]
  },
  {
   "cell_type": "markdown",
   "metadata": {},
   "source": [
    "plt_prj_1_2_5_idx = histogram2d(smooth_prj_1_5_idx, smooth_prj_2_5_idx, \n",
    "        title = string(\"PCA projections - idx = \", 5),\n",
    "        xlims = (-1, 1), ylims = (-1, 1),\n",
    "        xticks = [-.9 ; -.5 ; 0. ;.5 ; .9], yticks = [-.9 ; -.5 ; 0. ;.5 ; .9],\n",
    "        yaxis = \"PCA 2\", xaxis = \"PCA 1\",\n",
    "        colorbar_title = \"Frame count\",\n",
    "        guidefont = font(22, \"Arial\"), tickfont = font(16, \"Arial\"),\n",
    "        legendfont = font(16, \"Arial\"), #clims = (0, 15),\n",
    "        nbins = 20, seriescolor = :blues, grid = false)"
   ]
  },
  {
   "cell_type": "markdown",
   "metadata": {},
   "source": [
    "plt_prj_1_2_6_idx = histogram2d(smooth_prj_1_6_idx, smooth_prj_2_6_idx, \n",
    "        title = string(\"PCA projections - idx = \", 6),\n",
    "        xlims = (-1, 1), ylims = (-1, 1),\n",
    "        xticks = [-.9 ; -.5 ; 0. ;.5 ; .9], yticks = [-.9 ; -.5 ; 0. ;.5 ; .9],\n",
    "        yaxis = \"PCA 2\", xaxis = \"PCA 1\",\n",
    "        colorbar_title = \"Frame count\",\n",
    "        guidefont = font(22, \"Arial\"), tickfont = font(16, \"Arial\"),\n",
    "        legendfont = font(16, \"Arial\"), #clims = (0, 15),\n",
    "        nbins = 20, seriescolor = :blues, grid = false)"
   ]
  },
  {
   "cell_type": "markdown",
   "metadata": {},
   "source": [
    "plt_prj_1_2_7_idx = histogram2d(smooth_prj_1_7_idx, smooth_prj_2_7_idx, \n",
    "        title = string(\"PCA projections - idx = \", 7),\n",
    "        xlims = (-1, 1), ylims = (-1, 1),\n",
    "        xticks = [-.9 ; -.5 ; 0. ;.5 ; .9], yticks = [-.9 ; -.5 ; 0. ;.5 ; .9],\n",
    "        yaxis = \"PCA 2\", xaxis = \"PCA 1\",\n",
    "        colorbar_title = \"Frame count\",\n",
    "        guidefont = font(22, \"Arial\"), tickfont = font(16, \"Arial\"),\n",
    "        legendfont = font(16, \"Arial\"), #clims = (0, 15),\n",
    "        nbins = 20, seriescolor = :blues, grid = false)"
   ]
  },
  {
   "cell_type": "markdown",
   "metadata": {},
   "source": [
    "plt_prj_1_2_8_idx = histogram2d(smooth_prj_1_8_idx, smooth_prj_2_8_idx, \n",
    "        title = string(\"PCA projections - idx = \", 8),\n",
    "        xlims = (-1, 1), ylims = (-1, 1),\n",
    "        xticks = [-.9 ; -.5 ; 0. ;.5 ; .9], yticks = [-.9 ; -.5 ; 0. ;.5 ; .9],\n",
    "        yaxis = \"PCA 2\", xaxis = \"PCA 1\",\n",
    "        colorbar_title = \"Frame count\",\n",
    "        guidefont = font(22, \"Arial\"), tickfont = font(16, \"Arial\"),\n",
    "        legendfont = font(16, \"Arial\"), #clims = (0, 15),\n",
    "        nbins = 20, seriescolor = :blues, grid = false)"
   ]
  },
  {
   "cell_type": "markdown",
   "metadata": {},
   "source": [
    "plt_prj_1_2_9_idx = histogram2d(smooth_prj_1_9_idx, smooth_prj_2_9_idx, \n",
    "        title = string(\"PCA projections - idx = \", 9),\n",
    "        xlims = (-1, 1), ylims = (-1, 1),\n",
    "        xticks = [-.9 ; -.5 ; 0. ;.5 ; .9], yticks = [-.9 ; -.5 ; 0. ;.5 ; .9],\n",
    "        yaxis = \"PCA 2\", xaxis = \"PCA 1\",\n",
    "        colorbar_title = \"Frame count\",\n",
    "        guidefont = font(22, \"Arial\"), tickfont = font(16, \"Arial\"),\n",
    "        legendfont = font(16, \"Arial\"), #clims = (0, 15),\n",
    "        nbins = 20, seriescolor = :blues, grid = false)"
   ]
  },
  {
   "cell_type": "markdown",
   "metadata": {},
   "source": [
    "plt_prj_1_2_10_idx = histogram2d(smooth_prj_1_10_idx, smooth_prj_2_10_idx, \n",
    "        title = string(\"PCA projections - idx = \", 10),\n",
    "        xlims = (-1, 1), ylims = (-1, 1),\n",
    "        xticks = [-.9 ; -.5 ; 0. ;.5 ; .9], yticks = [-.9 ; -.5 ; 0. ;.5 ; .9],\n",
    "        yaxis = \"PCA 2\", xaxis = \"PCA 1\",\n",
    "        colorbar_title = \"Frame count\",\n",
    "        guidefont = font(22, \"Arial\"), tickfont = font(16, \"Arial\"),\n",
    "        legendfont = font(16, \"Arial\"), #clims = (0, 15),\n",
    "        nbins = 20, seriescolor = :blues, grid = false)"
   ]
  },
  {
   "cell_type": "markdown",
   "metadata": {},
   "source": [
    "plt_prj_1_2_11_idx = histogram2d(smooth_prj_1_11_idx, smooth_prj_2_11_idx, \n",
    "        title = string(\"PCA projections - idx = \", 11),\n",
    "        xlims = (-1, 1), ylims = (-1, 1),\n",
    "        xticks = [-.9 ; -.5 ; 0. ;.5 ; .9], yticks = [-.9 ; -.5 ; 0. ;.5 ; .9],\n",
    "        yaxis = \"PCA 2\", xaxis = \"PCA 1\",\n",
    "        colorbar_title = \"Frame count\",\n",
    "        guidefont = font(22, \"Arial\"), tickfont = font(16, \"Arial\"),\n",
    "        legendfont = font(16, \"Arial\"), #clims = (0, 15),\n",
    "        nbins = 20, seriescolor = :blues, grid = false)"
   ]
  },
  {
   "cell_type": "markdown",
   "metadata": {},
   "source": [
    "plt_prj_1_2_12_idx = histogram2d(smooth_prj_1_12_idx, smooth_prj_2_12_idx, \n",
    "        title = string(\"PCA projections - idx = \", 12),\n",
    "        xlims = (-1, 1), ylims = (-1, 1),\n",
    "        xticks = [-.9 ; -.5 ; 0. ;.5 ; .9], yticks = [-.9 ; -.5 ; 0. ;.5 ; .9],\n",
    "        yaxis = \"PCA 2\", xaxis = \"PCA 1\",\n",
    "        colorbar_title = \"Frame count\",\n",
    "        guidefont = font(22, \"Arial\"), tickfont = font(16, \"Arial\"),\n",
    "        legendfont = font(16, \"Arial\"), #clims = (0, 15),\n",
    "        nbins = 20, seriescolor = :blues, grid = false)"
   ]
  }
 ],
 "metadata": {
  "kernelspec": {
   "display_name": "Julia 1.5.0",
   "language": "julia",
   "name": "julia-1.5"
  },
  "language_info": {
   "file_extension": ".jl",
   "mimetype": "application/julia",
   "name": "julia",
   "version": "1.5.0"
  }
 },
 "nbformat": 4,
 "nbformat_minor": 4
}
